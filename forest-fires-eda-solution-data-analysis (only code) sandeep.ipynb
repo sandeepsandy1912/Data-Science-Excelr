{
 "cells": [
  {
   "cell_type": "code",
   "execution_count": 1,
   "id": "b72f178f",
   "metadata": {},
   "outputs": [],
   "source": [
    "# Install Necessary Packages, (First Time Only)\n",
    "\n",
    "# !pip install numpy --upgrade\n",
    "# !pip install pandas --upgrade\n",
    "# !pip install matplotlib --upgrade\n",
    "# !pip install seaborn --upgrade"
   ]
  },
  {
   "cell_type": "code",
   "execution_count": null,
   "id": "2daa23ca",
   "metadata": {},
   "outputs": [],
   "source": [
    "import os\n",
    "\n",
    "import pandas as pd\n",
    "import numpy as np\n",
    "import matplotlib.pyplot as plt\n",
    "import seaborn as sns\n",
    "\n",
    "\n",
    "%matplotlib inline\n",
    "sns.set_style('darkgrid')"
   ]
  },
  {
   "cell_type": "code",
   "execution_count": null,
   "id": "8c81d512",
   "metadata": {},
   "outputs": [],
   "source": [
    "os.listdir('../input/forest-firearea-datasets')"
   ]
  },
  {
   "cell_type": "code",
   "execution_count": null,
   "id": "777fd719",
   "metadata": {},
   "outputs": [],
   "source": [
    "# Reading csv file\n",
    "\n",
    "forest_df = pd.read_csv('../input/forest-firearea-datasets/forestfires.csv', delimiter=',',  )"
   ]
  },
  {
   "cell_type": "code",
   "execution_count": null,
   "id": "d7ea6496",
   "metadata": {},
   "outputs": [],
   "source": [
    "#  Display the first few rows\n",
    "\n",
    "forest_df.head(20)"
   ]
  },
  {
   "cell_type": "code",
   "execution_count": null,
   "id": "4b422be1",
   "metadata": {},
   "outputs": [],
   "source": [
    "forest_df.shape"
   ]
  },
  {
   "cell_type": "code",
   "execution_count": null,
   "id": "c4afbfb9",
   "metadata": {},
   "outputs": [],
   "source": [
    "feature_names = forest_df.columns\n",
    "\n",
    "feature_names"
   ]
  },
  {
   "cell_type": "code",
   "execution_count": null,
   "id": "1bd5cbf5",
   "metadata": {},
   "outputs": [],
   "source": [
    "forest_df.info()"
   ]
  },
  {
   "cell_type": "code",
   "execution_count": null,
   "id": "ffd63e44",
   "metadata": {},
   "outputs": [],
   "source": [
    "# Display the object type of data information.\n",
    "\n",
    "forest_df.describe(include=['O'])"
   ]
  },
  {
   "cell_type": "code",
   "execution_count": null,
   "id": "7720bab9",
   "metadata": {},
   "outputs": [],
   "source": [
    "# Lets create an variable and store its column name\n",
    "\n",
    "categorical_feature = forest_df.describe(include=['O']).columns\n",
    "\n",
    "# Print it in list type ...\n",
    "print(list(categorical_feature))"
   ]
  },
  {
   "cell_type": "code",
   "execution_count": null,
   "id": "f54d16b7",
   "metadata": {},
   "outputs": [],
   "source": [
    "forest_df['month'].value_counts()"
   ]
  },
  {
   "cell_type": "code",
   "execution_count": null,
   "id": "29ef7ae2",
   "metadata": {},
   "outputs": [],
   "source": [
    "forest_df['day'].value_counts()"
   ]
  },
  {
   "cell_type": "code",
   "execution_count": null,
   "id": "9eed79e9",
   "metadata": {},
   "outputs": [],
   "source": [
    "forest_df.describe(include=[\"int\", \"float\"])"
   ]
  },
  {
   "cell_type": "code",
   "execution_count": null,
   "id": "c1d7855b",
   "metadata": {},
   "outputs": [],
   "source": [
    "numerical_feature = forest_df.describe(include=[\"int\", \"float\"]).columns\n",
    "\n",
    "# Print it in list type ..\n",
    "print(list(numerical_feature))"
   ]
  },
  {
   "cell_type": "code",
   "execution_count": null,
   "id": "7ca5fc3e",
   "metadata": {},
   "outputs": [],
   "source": [
    "forest_df['area_km'] = forest_df['area'] / 100\n",
    "\n",
    "forest_df"
   ]
  },
  {
   "cell_type": "code",
   "execution_count": null,
   "id": "85c085aa",
   "metadata": {},
   "outputs": [],
   "source": [
    "# Shows the highes area in km\n",
    "\n",
    "forest_df.sort_values(by=\"area_km\", ascending=False).head()"
   ]
  },
  {
   "cell_type": "code",
   "execution_count": null,
   "id": "062dc5d5",
   "metadata": {},
   "outputs": [],
   "source": [
    "highest_fire_area = forest_df.sort_values(by=\"area_km\", ascending=True)\n",
    "\n",
    "plt.figure(figsize=(8, 6))\n",
    "\n",
    "plt.title(\"Temperature vs area of fire\" )\n",
    "plt.bar(highest_fire_area['temp'], highest_fire_area['area_km'])\n",
    "\n",
    "plt.xlabel(\"Temperature\")\n",
    "plt.ylabel(\"Area per km-sq\")\n",
    "plt.show()"
   ]
  },
  {
   "cell_type": "code",
   "execution_count": null,
   "id": "ee1c3b20",
   "metadata": {},
   "outputs": [],
   "source": [
    "print(categorical_feature)\n",
    "\n",
    "\n",
    "plt.figure(figsize=(10, 5))\n",
    "for idx, column in enumerate(categorical_feature):\n",
    "    df = forest_df.copy()\n",
    "    unique = df[column].value_counts(ascending=True);\n",
    " \n",
    "    plt.subplot(1, 2, idx+1)    \n",
    "    plt.title(\"Count of \"+ column)\n",
    "    plt.bar(unique.index, unique.values);\n",
    "    \n",
    "    plt.xlabel(column)\n",
    "    plt.ylabel(\"Number of \"+ column)\n",
    "    \n",
    "plt.tight_layout()\n",
    "plt.show()     "
   ]
  },
  {
   "cell_type": "code",
   "execution_count": null,
   "id": "07615cd1",
   "metadata": {},
   "outputs": [],
   "source": [
    "len(numerical_feature)\n",
    "\n",
    "# forest_df[numerical_feature]\n",
    "forest_df[categorical_feature]"
   ]
  },
  {
   "cell_type": "code",
   "execution_count": null,
   "id": "0fdc767b",
   "metadata": {},
   "outputs": [],
   "source": [
    "sns.set_style('darkgrid')\n",
    "# Find the relation\n",
    "# plt.subplot(forest_df)\n",
    "\n",
    "sns.pairplot(forest_df[[\"temp\", \"wind\", \"rain\", \"area_km\"]])\n",
    "plt.show()\n"
   ]
  },
  {
   "cell_type": "code",
   "execution_count": null,
   "id": "82db698c",
   "metadata": {},
   "outputs": [],
   "source": [
    "for idx, col  in enumerate(numerical_feature, 1):\n",
    "    plt.figure(figsize=(5,5))\n",
    "    \n",
    "#     plt.subplot(len(numerical_feature) // 2, 3, idx)\n",
    "    plt.boxplot(forest_df[col])\n",
    "\n",
    "    plt.title(col)\n",
    "#     plt.hist(forest_df[col])\n",
    "\n",
    "plt.tight_layout()\n",
    "plt.show(plt)"
   ]
  },
  {
   "cell_type": "code",
   "execution_count": null,
   "id": "bc644fa3",
   "metadata": {},
   "outputs": [],
   "source": [
    "plt.figure(figsize=(15, 12))\n",
    "\n",
    "plt.title(\"Heatmap Relation\")\n",
    "\n",
    "sns.heatmap(forest_df[numerical_feature].corr(), annot=True, fmt='.2f');"
   ]
  },
  {
   "cell_type": "code",
   "execution_count": null,
   "id": "0e435e49",
   "metadata": {},
   "outputs": [],
   "source": [
    "forest_df"
   ]
  },
  {
   "cell_type": "code",
   "execution_count": null,
   "id": "e4ec4b3f",
   "metadata": {},
   "outputs": [],
   "source": []
  },
  {
   "cell_type": "code",
   "execution_count": null,
   "id": "ebd33627",
   "metadata": {},
   "outputs": [],
   "source": [
    "# Q: What is the month wise area per sq km flow count?\n",
    "\n",
    "month_wise_area_km_count = forest_df.groupby(['month'])['area_km'].count()\n",
    "print(month_wise_area_km_count)\n",
    "\n",
    "plt.figure(figsize=(12, 10))\n",
    "plt.title(\"month wise area km counts\")\n",
    "\n",
    "plt.xlabel(\"Month Wise Area Km\")\n",
    "plt.ylabel(\"Months\")\n",
    "plt.bar(month_wise_area_km_count.index, month_wise_area_km_count.values);"
   ]
  },
  {
   "cell_type": "code",
   "execution_count": null,
   "id": "38322658",
   "metadata": {},
   "outputs": [],
   "source": [
    "# Q: What is the X and Y values in compare to area per sq. km wise ?\n",
    "\n",
    "plt.figure(figsize=(10, 7))\n",
    "\n",
    "plt.scatter(forest_df['X'], forest_df['area_km'])\n",
    "plt.scatter(forest_df['Y'], forest_df['area_km'])\n",
    "\n",
    "\n",
    "plt.show()"
   ]
  },
  {
   "cell_type": "code",
   "execution_count": null,
   "id": "16bf9399",
   "metadata": {},
   "outputs": [],
   "source": [
    "# Q: What is the highest rain and give the month and days.\n",
    "\n",
    "highest_rain = forest_df.sort_values(by='rain', ascending=False)[['month', 'day', 'rain']].head()\n",
    "highest_rain"
   ]
  },
  {
   "cell_type": "code",
   "execution_count": null,
   "id": "e02e81f9",
   "metadata": {},
   "outputs": [],
   "source": [
    "# Q: Give the highest and lowest temperature in month and day wise.\n",
    "\n",
    "highest_temp = forest_df.sort_values(by='temp', ascending=False)[['month', 'day', 'temp']].head()\n",
    "\n",
    "lowest_temp =  forest_df.sort_values(by='temp', ascending=True)[['month', 'day', 'temp']].head()\n",
    "\n",
    "print(\"Highest Temperature\")\n",
    "\n",
    "print(highest_temp)\n",
    "\n",
    "print()\n",
    "\n",
    "print()\n",
    "\n",
    "print(\"Lowest Temperature\")\n",
    "print(lowest_temp)"
   ]
  },
  {
   "cell_type": "code",
   "execution_count": null,
   "id": "a8c5dd37",
   "metadata": {},
   "outputs": [],
   "source": [
    "plt.figure(figsize=(9, 6))\n",
    "\n",
    "plt.title(\"Highest Temperature in Aug.  Month\")\n",
    "\n",
    "plt.bar(highest_temp['day'], highest_temp['temp'])\n",
    "\n",
    "plt.xlabel(\"Day\")\n",
    "plt.xlabel(\"Aug. Month\")\n",
    "\n",
    "\n",
    "plt.ylabel(\"Temperature\")\n",
    "plt.show()"
   ]
  },
  {
   "cell_type": "code",
   "execution_count": null,
   "id": "e8b45b4b",
   "metadata": {},
   "outputs": [],
   "source": [
    "plt.figure(figsize=(9, 6))\n",
    "\n",
    "plt.title(\"Lowest Temperature in Dec. and Feb.  Month\")\n",
    "\n",
    "plt.bar(lowest_temp['day'], lowest_temp['temp'])\n",
    "\n",
    "plt.xlabel(\"Day\")\n",
    "plt.xlabel(\"Dec. and Feb. Month\")\n",
    "\n",
    "plt.ylabel(\"Temperature\")\n",
    "\n",
    "plt.show()"
   ]
  },
  {
   "cell_type": "code",
   "execution_count": null,
   "id": "cd4ad6d9",
   "metadata": {},
   "outputs": [],
   "source": [
    "forest_df"
   ]
  }
 ],
 "metadata": {
  "kernelspec": {
   "display_name": "Python 3 (ipykernel)",
   "language": "python",
   "name": "python3"
  },
  "language_info": {
   "codemirror_mode": {
    "name": "ipython",
    "version": 3
   },
   "file_extension": ".py",
   "mimetype": "text/x-python",
   "name": "python",
   "nbconvert_exporter": "python",
   "pygments_lexer": "ipython3",
   "version": "3.10.9"
  }
 },
 "nbformat": 4,
 "nbformat_minor": 5
}
